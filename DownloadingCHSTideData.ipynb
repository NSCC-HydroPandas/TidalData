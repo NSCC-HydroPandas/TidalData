{
 "cells": [
  {
   "cell_type": "markdown",
   "metadata": {
    "id": "2Jruxg5KeNVQ"
   },
   "source": [
    "# Canadian Tide Time Series Data Downloading"
   ]
  },
  {
   "cell_type": "markdown",
   "metadata": {
    "id": "QSabmq_2vtHc"
   },
   "source": [
    "**1. Set up Enviroment**"
   ]
  },
  {
   "cell_type": "code",
   "execution_count": 1,
   "metadata": {
    "colab": {
     "base_uri": "https://localhost:8080/"
    },
    "executionInfo": {
     "elapsed": 16861,
     "status": "ok",
     "timestamp": 1741116356945,
     "user": {
      "displayName": "",
      "userId": ""
     },
     "user_tz": 240
    },
    "id": "o4tHHxzOeNIB",
    "outputId": "9494a70e-62e7-41a5-aa98-aac3cdd18614"
   },
   "outputs": [
    {
     "name": "stdout",
     "output_type": "stream",
     "text": [
      "Requirement already satisfied: requests in c:\\users\\legermi\\appdata\\local\\programs\\python\\python37\\lib\\site-packages (2.31.0)\n",
      "Requirement already satisfied: charset-normalizer<4,>=2 in c:\\users\\legermi\\appdata\\local\\programs\\python\\python37\\lib\\site-packages (from requests) (3.2.0)\n",
      "Requirement already satisfied: idna<4,>=2.5 in c:\\users\\legermi\\appdata\\local\\programs\\python\\python37\\lib\\site-packages (from requests) (3.4)\n",
      "Requirement already satisfied: urllib3<3,>=1.21.1 in c:\\users\\legermi\\appdata\\local\\programs\\python\\python37\\lib\\site-packages (from requests) (2.0.5)\n",
      "Requirement already satisfied: certifi>=2017.4.17 in c:\\users\\legermi\\appdata\\local\\programs\\python\\python37\\lib\\site-packages (from requests) (2023.7.22)\n",
      "Requirement already satisfied: pandas in c:\\users\\legermi\\appdata\\local\\programs\\python\\python37\\lib\\site-packages (1.3.5)\n",
      "Requirement already satisfied: python-dateutil>=2.7.3 in c:\\users\\legermi\\appdata\\local\\programs\\python\\python37\\lib\\site-packages (from pandas) (2.8.2)\n",
      "Requirement already satisfied: pytz>=2017.3 in c:\\users\\legermi\\appdata\\local\\programs\\python\\python37\\lib\\site-packages (from pandas) (2023.3.post1)\n",
      "Requirement already satisfied: numpy>=1.17.3 in c:\\users\\legermi\\appdata\\local\\programs\\python\\python37\\lib\\site-packages (from pandas) (1.21.6)\n",
      "Requirement already satisfied: six>=1.5 in c:\\users\\legermi\\appdata\\local\\programs\\python\\python37\\lib\\site-packages (from python-dateutil>=2.7.3->pandas) (1.16.0)\n"
     ]
    }
   ],
   "source": [
    "!pip install requests\n",
    "!pip install pandas\n",
    "import requests\n",
    "import pandas as pd\n",
    "from datetime import datetime\n",
    "from datetime import timedelta\n",
    "import time"
   ]
  },
  {
   "cell_type": "markdown",
   "metadata": {
    "id": "r5X-XTCb_Vx4"
   },
   "source": [
    "**2. User Input**\n",
    "\n",
    "The script will ask for and validate the follow inputs:\n",
    "\n",
    "- Station number\n",
    "- Time Series Resolution\n",
    "- Start Date\n",
    "- End Date\n",
    "- Tide Series"
   ]
  },
  {
   "cell_type": "code",
   "execution_count": 2,
   "metadata": {},
   "outputs": [],
   "source": [
    "stn_num = int(input('Please Provide Station Number: '))\n",
    "data_res = input('Provide number of the Resolution for Data Download 1, 3, 15, 60: ')\n",
    "start_date = input('Provide Start Date in YYYY-MM-DD Format: ')\n",
    "end_date = input('Provide End Date in YYYY-MM-DD Format: ')\n",
    "tide_series = input('Provide Tide Series Code of wlo or wlp: ').lower()\n",
    "\n",
    "# Check the user resolution input is valid\n",
    "# Select format based on the resolution for the API endpoint\n",
    "valid_res = False\n",
    "while not valid_res:\n",
    "    if data_res == '1':\n",
    "        resolution = 'ONE_MINUTE'\n",
    "        valid_res = True\n",
    "    elif data_res == '3':\n",
    "        resolution = 'THREE_MINUTES'\n",
    "        valid_res = True\n",
    "    elif data_res == '15':\n",
    "        resolution = 'FIFTEEN_MINUTES'\n",
    "        valid_res = True\n",
    "    elif data_res == '60':\n",
    "        resolution = 'SIXTY_MINUTES'\n",
    "        valid_res = True\n",
    "    else:\n",
    "        data_res = input(f'Provided value was {data_res} and is not 1, 3, 15, or 60. Please provide a valid resolution')\n",
    "        valid_res = False\n",
    "\n",
    "# Check the user Start Date and End Date input is valid\n",
    "valid_dates = False\n",
    "while not valid_dates:\n",
    "    try:\n",
    "        format = '%Y-%m-%d'\n",
    "        ma = datetime.strptime(end_date, format).date()\n",
    "        mi = datetime.strptime(start_date, format).date()\n",
    "    except ValueError:\n",
    "        start_date = input(f'Provided value was {start_date}, please Provide a Start Date in YYYY-MM-DD Format: ')\n",
    "        end_date = input(f'Provided value was {end_date}, please Provide a Start Date in YYYY-MM-DD Format: ')\n",
    "        pass\n",
    "    if  ma < mi:\n",
    "        start_date = input(f'Start Date of {start_date} is not < End Date of {end_date}, please provide a Start Date that is less than the End Date ')\n",
    "        end_date = input('Provide End Date in YYYY-MM-DD Format: ')\n",
    "        valid_dates = False\n",
    "    else:\n",
    "        valid_dates = True\n",
    "          \n",
    "# Check the time series user input is valid\n",
    "valid_timeseries = False\n",
    "while not valid_timeseries:\n",
    "    if (tide_series == 'wlo') or (tide_series == 'wlp'):\n",
    "        valid_timeseries = True\n",
    "    else:\n",
    "        tide_series = input(f'Provided value was {tide_series}, please provide Tide Series Code of wlo or wlp: ').lower()\n",
    "        valid_timeseries = False\n",
    "    "
   ]
  },
  {
   "cell_type": "markdown",
   "metadata": {
    "id": "fTvUrDdOjXnZ"
   },
   "source": [
    "**2. Find station endpoint based on station number provided**"
   ]
  },
  {
   "cell_type": "code",
   "execution_count": 3,
   "metadata": {
    "colab": {
     "base_uri": "https://localhost:8080/",
     "height": 35
    },
    "executionInfo": {
     "elapsed": 12,
     "status": "ok",
     "timestamp": 1741116392718,
     "user": {
      "displayName": "",
      "userId": ""
     },
     "user_tz": 240
    },
    "id": "M7WB4o97ih79",
    "outputId": "b9a8ce5e-561d-48be-e082-ad8b8983912b"
   },
   "outputs": [
    {
     "data": {
      "text/plain": [
       "'https://api.iwls-sine.azure.cloud-nuage.dfo-mpo.gc.ca/api/v1/stations?code=00300'"
      ]
     },
     "execution_count": 3,
     "metadata": {},
     "output_type": "execute_result"
    }
   ],
   "source": [
    "# Correcting to have Station in 5 digit format\n",
    "stn_num = f\"{stn_num:05d}\"\n",
    "stn_url = f'https://api.iwls-sine.azure.cloud-nuage.dfo-mpo.gc.ca/api/v1/stations?code={stn_num}'\n",
    "stn_url"
   ]
  },
  {
   "cell_type": "code",
   "execution_count": 4,
   "metadata": {
    "colab": {
     "base_uri": "https://localhost:8080/"
    },
    "executionInfo": {
     "elapsed": 176,
     "status": "ok",
     "timestamp": 1741116696715,
     "user": {
      "displayName": "",
      "userId": ""
     },
     "user_tz": 240
    },
    "id": "TsJtCMa9nhlZ",
    "outputId": "74172ebc-cad4-4429-f6d7-df0e94859afb"
   },
   "outputs": [
    {
     "data": {
      "text/plain": [
       "['5cebf1df3d0f4a073c4bbc62']"
      ]
     },
     "execution_count": 4,
     "metadata": {},
     "output_type": "execute_result"
    }
   ],
   "source": [
    "content = requests.get(stn_url)\n",
    "if content.status_code == 200:\n",
    "  df = pd.read_json(content.text)\n",
    "  stn_id = df['id'].to_list()\n",
    "else:\n",
    "  print('Error with request')\n",
    "stn_id"
   ]
  },
  {
   "cell_type": "markdown",
   "metadata": {},
   "source": [
    "3. Create incremental list of Min Dates Max Date for API endpoints"
   ]
  },
  {
   "cell_type": "code",
   "execution_count": 5,
   "metadata": {},
   "outputs": [
    {
     "name": "stdout",
     "output_type": "stream",
     "text": [
      "['2024-10-10']\n",
      "['2024-10-12']\n"
     ]
    }
   ],
   "source": [
    "dayoffset = 6\n",
    "start_dates =[]\n",
    "end_dates = []\n",
    "while mi < ma:\n",
    "    start_dates.append(mi.strftime(format))\n",
    "    mi = mi + timedelta(days=dayoffset)\n",
    "    end_dates.append(mi.strftime(format))\n",
    "end_dates[-1] = end_date\n",
    "print(start_dates)\n",
    "print(end_dates)"
   ]
  },
  {
   "cell_type": "markdown",
   "metadata": {
    "id": "_j-1pzYyKPjj"
   },
   "source": [
    "3. Create a list urls to request Tidal data from the API grouped by 7 day intervalsrequest until end date limit reached"
   ]
  },
  {
   "cell_type": "code",
   "execution_count": 6,
   "metadata": {
    "id": "q3fI0HXwrrC2"
   },
   "outputs": [],
   "source": [
    "request_list = []\n",
    "\n",
    "i = 0\n",
    "for i in range(len(start_dates)):\n",
    "  sd = start_dates[i]\n",
    "  ed = end_dates[i]\n",
    "  data_url = (f'https://api.iwls-sine.azure.cloud-nuage.dfo-mpo.gc.ca/api/v1/' +\n",
    "                f'stations/5cebf1e33d0f4a073c4bc21f/data?time-series-code={tide_series}&from=' +\n",
    "                f'{sd}T00%3A00%3A00Z&to={ed}T23%3A59%3A59Z&'+\n",
    "                f'resolution={resolution}')\n",
    "  request_list.append(data_url)\n"
   ]
  },
  {
   "cell_type": "code",
   "execution_count": 7,
   "metadata": {
    "colab": {
     "base_uri": "https://localhost:8080/"
    },
    "executionInfo": {
     "elapsed": 11,
     "status": "ok",
     "timestamp": 1741116924785,
     "user": {
      "displayName": "",
      "userId": ""
     },
     "user_tz": 240
    },
    "id": "5eurIESElyR_",
    "outputId": "8d491a88-3f70-4d56-ec7a-e0d5695a3fe3"
   },
   "outputs": [
    {
     "data": {
      "text/plain": [
       "['https://api.iwls-sine.azure.cloud-nuage.dfo-mpo.gc.ca/api/v1/stations/5cebf1e33d0f4a073c4bc21f/data?time-series-code=wlp&from=2024-10-10T00%3A00%3A00Z&to=2024-10-12T23%3A59%3A59Z&resolution=THREE_MINUTES']"
      ]
     },
     "execution_count": 7,
     "metadata": {},
     "output_type": "execute_result"
    }
   ],
   "source": [
    "request_list"
   ]
  },
  {
   "cell_type": "markdown",
   "metadata": {
    "id": "ikCC0tU9vrZS"
   },
   "source": [
    "4. Append data to a new Dataframe and export as a csv"
   ]
  },
  {
   "cell_type": "code",
   "execution_count": 8,
   "metadata": {
    "colab": {
     "base_uri": "https://localhost:8080/"
    },
    "executionInfo": {
     "elapsed": 2374,
     "status": "ok",
     "timestamp": 1741116944738,
     "user": {
      "displayName": "",
      "userId": ""
     },
     "user_tz": 240
    },
    "id": "AOt9YYY3njAJ",
    "outputId": "ea32b538-f248-4efe-aada-bb3cb22d54d2"
   },
   "outputs": [],
   "source": [
    "data = pd.DataFrame()\n",
    "for url in request_list:\n",
    "  content = requests.get(url)\n",
    "  if content.status_code == 200:\n",
    "    df = pd.read_json(content.text)\n",
    "    data = pd.concat([data, df])\n",
    "    time.sleep(1)\n",
    "  else:\n",
    "    print('Error with request')\n",
    "data\n",
    "\n",
    "data.to_csv(f'{stn_num}_{start_date}_{end_date}_{resolution}.csv')"
   ]
  }
 ],
 "metadata": {
  "colab": {
   "provenance": [
    {
     "file_id": "https://github.com/HydroPanadas/HuggingFacML/blob/main/DownloadingCHSTideData.ipynb",
     "timestamp": 1741117073505
    }
   ],
   "toc_visible": true
  },
  "kernelspec": {
   "display_name": "Python 3",
   "name": "python3"
  },
  "language_info": {
   "codemirror_mode": {
    "name": "ipython",
    "version": 3
   },
   "file_extension": ".py",
   "mimetype": "text/x-python",
   "name": "python",
   "nbconvert_exporter": "python",
   "pygments_lexer": "ipython3",
   "version": "3.7.9"
  }
 },
 "nbformat": 4,
 "nbformat_minor": 0
}
